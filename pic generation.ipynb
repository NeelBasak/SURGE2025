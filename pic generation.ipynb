{
 "cells": [
  {
   "cell_type": "code",
   "execution_count": 1,
   "metadata": {},
   "outputs": [],
   "source": [
    "from multiprocessing.sharedctypes import Value\n",
    "import cv2 as cv\n",
    "import numpy as np\n",
    "from matplotlib import pyplot as plt\n",
    "from pandas import value_counts\n",
    "from scipy import ndimage\n",
    "from skimage import io,color,measure\n",
    "import random \n",
    "from numpy import random"
   ]
  },
  {
   "cell_type": "code",
   "execution_count": null,
   "metadata": {},
   "outputs": [],
   "source": []
  },
  {
   "cell_type": "code",
   "execution_count": 2,
   "metadata": {},
   "outputs": [
    {
     "data": {
      "text/plain": [
       "True"
      ]
     },
     "execution_count": 2,
     "metadata": {},
     "output_type": "execute_result"
    }
   ],
   "source": [
    "#yaha bhayankar test ho rha hai \n",
    "img = np.zeros((560,240,3),dtype='uint8') #y,x,3 (y tells the no. of rows , x tell the no. of column)\n",
    "blue_color = (255, 0, 0)\n",
    "img[:, :] = blue_color\n",
    "color_for_circle1 = (51,150,250)\n",
    "volfrac=0.5 # yaha kucj nhi ho rha hai \n",
    "volfrac_new=0.\n",
    "\n",
    "def collide(center, rad, centers, rads):\n",
    "        for i in range(len(rads)):\n",
    "                k=len(rads)\n",
    "                c=centers[i,:]\n",
    "                r=rads[i]\n",
    "                p=c\n",
    "                q=center\n",
    "                if ( ((p[0]-q[0][0])**2 + (p[1]-q[0][1])**2 )**0.5) < (r[0] + rad):     \n",
    "                        return True\n",
    "                else:\n",
    "                    continue\n",
    "                \n",
    "                                \n",
    "po=1  \n",
    "\n",
    "        \n",
    "radn=np.int32(random.normal(loc=40,scale=16,size=(1000,1)))\n",
    "radn1=np.arange(1,1001)\n",
    "for i in range(0,len(radn)):\n",
    "                radn1[i]=abs(radn[i][0])\n",
    "randn2=np.array([[random.choice(radn1)]])\n",
    "#print(randn2)\n",
    "                     \n",
    "#centers = np.int32(np.random.uniform(0,5000,(1,2)))\n",
    "x_value = np.random.uniform(0, 240) # ek saath\n",
    "y_value = np.random.uniform(0, 560) # ek saath\n",
    "centers = np.int32([[x_value, y_value]]) # ek saath\n",
    "rads=np.array([[random.choice(radn1)]])\n",
    "while volfrac_new<=0.5: # change volume fraction yaha change kro \n",
    "        if po!=1:\n",
    "                #center = np.int32(np.random.uniform(0,5000,(1,2)))\n",
    "                x_value = np.random.uniform(0, 240) # ek saath\n",
    "                y_value = np.random.uniform(0, 560) # ek saath\n",
    "                center = np.int32([[x_value, y_value]]) # ek saath\n",
    "                rad=np.array([[random.choice(radn1)]])\n",
    "    \n",
    "                #for i in range(len(rads)):\n",
    "                while collide(center, rad, centers, rads):\n",
    "                    #center = np.int32(np.random.uniform(0,5000,(1,2)))\n",
    "                     x_value = np.random.uniform(0, 240) # ek saath\n",
    "                     y_value = np.random.uniform(0, 560) # ek saath\n",
    "                     center = np.int32([[x_value, y_value]]) # ek saath\n",
    "                     rad=np.array([[random.choice(radn1)]])\n",
    "               \n",
    "                \n",
    "\n",
    "                #print(center)\n",
    "        \n",
    "                centers = np.append(centers,center,axis=0)\n",
    "                rads = np.append(rads,rad,axis=0)\n",
    "\n",
    "        for i in range(0,len(rads)):\n",
    "          cv.circle(img,centers[i],rads[i][0],color_for_circle1,-1,cv.LINE_AA)\n",
    "        #cv.circle(img,centers[0],rads[0][0],color_for_circle1,-1,cv.LINE_AA)\n",
    "        f = np.where(img == color_for_circle1)\n",
    "        volfrac_new = (len(f[0])/(560*240*3)) #change here \n",
    "        po=po+1\n",
    "        # if volfrac_new>=0.59:\n",
    "        #     break\n",
    "\n",
    "#cv.imshow('circle',img)\n",
    "#cv.waitKey(0)\n",
    "cv.imwrite('Circular_microstructure_color_10.jpg',img)"
   ]
  },
  {
   "cell_type": "code",
   "execution_count": 3,
   "metadata": {},
   "outputs": [
    {
     "data": {
      "text/plain": [
       "0.5037624007936508"
      ]
     },
     "execution_count": 3,
     "metadata": {},
     "output_type": "execute_result"
    }
   ],
   "source": [
    "volfrac_new"
   ]
  },
  {
   "cell_type": "code",
   "execution_count": null,
   "metadata": {},
   "outputs": [],
   "source": []
  },
  {
   "cell_type": "code",
   "execution_count": 4,
   "metadata": {},
   "outputs": [],
   "source": [
    "\n",
    "#np.max(rads)"
   ]
  },
  {
   "cell_type": "code",
   "execution_count": null,
   "metadata": {},
   "outputs": [],
   "source": []
  },
  {
   "cell_type": "code",
   "execution_count": 5,
   "metadata": {},
   "outputs": [
    {
     "data": {
      "image/png": "[encoded data removed]",
      "text/plain": [
       "<Figure size 640x480 with 1 Axes>"
      ]
     },
     "metadata": {},
     "output_type": "display_data"
    }
   ],
   "source": [
    "bins=[5,10,15,20,25,30,35,40,45,50,55,60,65,70,75,80,85,90,100]\n",
    "plt.hist(rads, bins =bins,edgecolor='black')\n",
    " \n",
    "# Show plot\n",
    "plt.title('Volume fraction-10%')\n",
    "plt.xlabel('Radius')\n",
    "plt.ylabel('Count')\n",
    "plt.show()\n"
   ]
  },
  {
   "cell_type": "code",
   "execution_count": 6,
   "metadata": {},
   "outputs": [
    {
     "data": {
      "text/plain": [
       "22"
      ]
     },
     "execution_count": 6,
     "metadata": {},
     "output_type": "execute_result"
    }
   ],
   "source": [
    "\n",
    "rads.size"
   ]
  },
  {
   "cell_type": "code",
   "execution_count": 7,
   "metadata": {},
   "outputs": [
    {
     "data": {
      "text/plain": [
       "20"
      ]
     },
     "execution_count": 7,
     "metadata": {},
     "output_type": "execute_result"
    }
   ],
   "source": [
    "\n",
    "output_file = open('Circular_Microstructure_0_1.txt','w')\n",
    "   \n",
    "output_file.write('\\nvolume fraction = ' +str(volfrac_new)+'\\n')\n",
    "output_file.write('No of grains = ' +str(len(rads))+'\\n')\n",
    "output_file.write('Minimum radius = ' +str(np.min(rads))+'\\n') \n",
    "output_file.write('Maximum radius = ' +str(np.max(rads))+'\\n') "
   ]
  },
  {
   "cell_type": "code",
   "execution_count": 8,
   "metadata": {},
   "outputs": [
    {
     "data": {
      "text/plain": [
       "20"
      ]
     },
     "execution_count": 8,
     "metadata": {},
     "output_type": "execute_result"
    }
   ],
   "source": [
    "\n",
    "output_file = open('Circular_Microstructure_0_1.txt','w')\n",
    "output_file.write('coor_for_circle1\\n\\n')\n",
    "for i in centers:\n",
    "    output_file.write(str(i)+'\\n')\n",
    "\n",
    "output_file.write('\\nrad_circle1_list\\n\\n')    \n",
    "for i in rads:\n",
    "    output_file.write(str(i)+'\\n')\n",
    "\n",
    "\n",
    "    \n",
    "output_file.write('\\nvolume fraction = ' +str(volfrac_new)+'\\n')\n",
    "output_file.write('No of grains = ' +str(len(rads))+'\\n')\n",
    "output_file.write('Minimum radius = ' +str(np.min(rads))+'\\n') \n",
    "output_file.write('Maximum radius = ' +str(np.max(rads))+'\\n') "
   ]
  },
  {
   "cell_type": "code",
   "execution_count": 9,
   "metadata": {},
   "outputs": [
    {
     "data": {
      "text/plain": [
       "-1"
      ]
     },
     "execution_count": 9,
     "metadata": {},
     "output_type": "execute_result"
    }
   ],
   "source": [
    "k=0\n",
    "img = cv.imread('Circular_microstructure_color_10.jpg')\n",
    "img1 = cv.cvtColor(img, cv.COLOR_BGR2GRAY)\n",
    "ret, thresh2 = cv.threshold(img1, 120, 255, cv.THRESH_BINARY_INV)\n",
    "cv.imshow('img',thresh2)\n",
    "# cv.imshow('img',img1)\n",
    "cv.waitKey(0)\n",
    "\n"
   ]
  },
  {
   "cell_type": "code",
   "execution_count": null,
   "metadata": {},
   "outputs": [],
   "source": []
  },
  {
   "cell_type": "code",
   "execution_count": null,
   "metadata": {},
   "outputs": [],
   "source": []
  }
 ],
 "metadata": {
  "kernelspec": {
   "display_name": "Python 3",
   "language": "python",
   "name": "python3"
  },
  "language_info": {
   "codemirror_mode": {
    "name": "ipython",
    "version": 3
   },
   "file_extension": ".py",
   "mimetype": "text/x-python",
   "name": "python",
   "nbconvert_exporter": "python",
   "pygments_lexer": "ipython3",
   "version": "3.12.1"
  },
  "orig_nbformat": 4
 },
 "nbformat": 4,
 "nbformat_minor": 2
}
